{
 "cells": [
  {
   "cell_type": "code",
   "execution_count": 21,
   "metadata": {},
   "outputs": [
    {
     "data": {
      "text/plain": [
       "True"
      ]
     },
     "execution_count": 21,
     "metadata": {},
     "output_type": "execute_result"
    }
   ],
   "source": [
    "import os\n",
    "from dotenv import load_dotenv\n",
    "load_dotenv()"
   ]
  },
  {
   "cell_type": "code",
   "execution_count": 22,
   "metadata": {},
   "outputs": [
    {
     "data": {
      "text/plain": [
       "ChatGroq(client=<groq.resources.chat.completions.Completions object at 0x302e51ad0>, async_client=<groq.resources.chat.completions.AsyncCompletions object at 0x306c5f4d0>, model_name='gemma2-9b-It', model_kwargs={}, groq_api_key=SecretStr('**********'))"
      ]
     },
     "execution_count": 22,
     "metadata": {},
     "output_type": "execute_result"
    }
   ],
   "source": [
    "from langchain_groq import ChatGroq\n",
    "api_key=os.getenv(\"GROQ_API_KEY\")\n",
    "llm=ChatGroq(groq_api_key=api_key,model=\"gemma2-9b-It\")\n",
    "llm"
   ]
  },
  {
   "cell_type": "code",
   "execution_count": 23,
   "metadata": {},
   "outputs": [],
   "source": [
    "from langchain.schema import(\n",
    "    AIMessage, # AIMessage --> AIMessage for AI responses.\n",
    "    HumanMessage,SystemMessage #HumanMessage for user inputs. \n",
    "    #SystemMessage for setting AI behavior or providing context.\n",
    ")\n"
   ]
  },
  {
   "cell_type": "code",
   "execution_count": 24,
   "metadata": {},
   "outputs": [],
   "source": [
    "speech = \"\"\"\n",
    "Ladies and Gentlemen,\n",
    "It is with a heart full of gratitude and a mind brimming with thoughts that I stand before you today. We gather here, not just as individuals, but as a collective, a community bound by the threads of shared dreams, challenges, and hopes for a brighter future.\n",
    "We live in times that are both exhilarating and challenging. The world around us is changing at a pace that would have been unimaginable to our forefathers. Technology has transformed every aspect of our lives, from how we communicate to how we learn, work, and even think about our place in the universe.\n",
    "But with this great wave of change comes a tide of trials. We've seen pandemics, economic downturns, climate crises, and social upheavals. Yet, here we are, not just surviving but striving to thrive. This resilience is the essence of our human spirit. It's the story of humanity—adapting, overcoming, and innovating.\n",
    "Innovation isn't just about the latest gadget or app; it's about the human capacity to dream of a better tomorrow. It's about looking at a problem and seeing not just the obstacle, but the opportunity. From the small village entrepreneur who transforms local agriculture with sustainable practices to the scientists in labs working on vaccines in record time, innovation is everywhere.\n",
    "We must, however, remember that technology and innovation are tools in our hands. Their direction, their purpose, is shaped by our values, our ethics. As we advance, let's ensure we do so with compassion, inclusivity, and a deep respect for our planet. We are not just building for today but for generations to come.\n",
    "Education is another cornerstone of our progress. In an age where information is at our fingertips, the true value lies in learning how to think, innovate, and collaborate. Schools, universities, and even our informal learning environments must evolve to nurture not just intelligence but wisdom, creativity, and empathy.\n",
    "Looking at the youth of today, I see a generation not afraid to challenge the status quo. You are the ones who will redefine what is possible. I urge you to keep questioning, to keep pushing boundaries, but also to remember the power of unity. No challenge is too great when we face it together.\n",
    "Our history is replete with tales of division—be it by borders, beliefs, or biases. Yet, history also teaches us that our greatest achievements come from unity. From the moon landings to the eradication of diseases, from the fall of walls to the rise of global movements for justice, unity has been our strength.\n",
    "In this context, let's talk about our environment. The Earth, our home, is facing unprecedented challenges. Climate change is not a distant threat; it's a present reality. But here too, we see hope. We see countries coming together at climate talks, businesses adopting greener practices, and individuals making lifestyle changes. Every small action counts; every voice matters.\n",
    "But we must also confront the issues of inequality, both economic and social. The digital divide, access to education, healthcare disparities—these are not abstract concepts but real-life barriers that prevent many from reaching their potential. We must work tirelessly to dismantle these barriers, to ensure that the ladder of opportunity is accessible to all.\n",
    "Let's also celebrate diversity. Our world is a tapestry of cultures, languages, and perspectives. Each thread adds to the strength and beauty of the whole. When we embrace this diversity, we don't just coexist; we flourish. We learn from each other, grow stronger together, and solve problems with a richness of thought that monoculture could never achieve.\n",
    "In closing, I want to leave you with a call to action. Be the change you wish to see. Whether it's through voting, volunteering, creating, or educating, your actions can ripple across the globe. Remember, every step forward, no matter how small, contributes to the journey of humanity. Let's not just dream of a better world; let's build it—brick by brick, idea by idea, heart by heart.\n",
    "Thank you, and let's move forward, together, into a future where our shared humanity is our greatest achievement.\n",
    "\"\"\""
   ]
  },
  {
   "cell_type": "code",
   "execution_count": 25,
   "metadata": {},
   "outputs": [
    {
     "data": {
      "text/plain": [
       "\"\\nLadies and Gentlemen,\\nIt is with a heart full of gratitude and a mind brimming with thoughts that I stand before you today. We gather here, not just as individuals, but as a collective, a community bound by the threads of shared dreams, challenges, and hopes for a brighter future.\\nWe live in times that are both exhilarating and challenging. The world around us is changing at a pace that would have been unimaginable to our forefathers. Technology has transformed every aspect of our lives, from how we communicate to how we learn, work, and even think about our place in the universe.\\nBut with this great wave of change comes a tide of trials. We've seen pandemics, economic downturns, climate crises, and social upheavals. Yet, here we are, not just surviving but striving to thrive. This resilience is the essence of our human spirit. It's the story of humanity—adapting, overcoming, and innovating.\\nInnovation isn't just about the latest gadget or app; it's about the human capacity to dream of a better tomorrow. It's about looking at a problem and seeing not just the obstacle, but the opportunity. From the small village entrepreneur who transforms local agriculture with sustainable practices to the scientists in labs working on vaccines in record time, innovation is everywhere.\\nWe must, however, remember that technology and innovation are tools in our hands. Their direction, their purpose, is shaped by our values, our ethics. As we advance, let's ensure we do so with compassion, inclusivity, and a deep respect for our planet. We are not just building for today but for generations to come.\\nEducation is another cornerstone of our progress. In an age where information is at our fingertips, the true value lies in learning how to think, innovate, and collaborate. Schools, universities, and even our informal learning environments must evolve to nurture not just intelligence but wisdom, creativity, and empathy.\\nLooking at the youth of today, I see a generation not afraid to challenge the status quo. You are the ones who will redefine what is possible. I urge you to keep questioning, to keep pushing boundaries, but also to remember the power of unity. No challenge is too great when we face it together.\\nOur history is replete with tales of division—be it by borders, beliefs, or biases. Yet, history also teaches us that our greatest achievements come from unity. From the moon landings to the eradication of diseases, from the fall of walls to the rise of global movements for justice, unity has been our strength.\\nIn this context, let's talk about our environment. The Earth, our home, is facing unprecedented challenges. Climate change is not a distant threat; it's a present reality. But here too, we see hope. We see countries coming together at climate talks, businesses adopting greener practices, and individuals making lifestyle changes. Every small action counts; every voice matters.\\nBut we must also confront the issues of inequality, both economic and social. The digital divide, access to education, healthcare disparities—these are not abstract concepts but real-life barriers that prevent many from reaching their potential. We must work tirelessly to dismantle these barriers, to ensure that the ladder of opportunity is accessible to all.\\nLet's also celebrate diversity. Our world is a tapestry of cultures, languages, and perspectives. Each thread adds to the strength and beauty of the whole. When we embrace this diversity, we don't just coexist; we flourish. We learn from each other, grow stronger together, and solve problems with a richness of thought that monoculture could never achieve.\\nIn closing, I want to leave you with a call to action. Be the change you wish to see. Whether it's through voting, volunteering, creating, or educating, your actions can ripple across the globe. Remember, every step forward, no matter how small, contributes to the journey of humanity. Let's not just dream of a better world; let's build it—brick by brick, idea by idea, heart by heart.\\nThank you, and let's move forward, together, into a future where our shared humanity is our greatest achievement.\\n\""
      ]
     },
     "execution_count": 25,
     "metadata": {},
     "output_type": "execute_result"
    }
   ],
   "source": [
    "speech"
   ]
  },
  {
   "cell_type": "code",
   "execution_count": 26,
   "metadata": {},
   "outputs": [],
   "source": [
    "chat_message=[\n",
    "    SystemMessage(content=\"You are expert with experise in summarizing speeched\"),\n",
    "    HumanMessage(content=f\"Please provide a short and concisse summary of the follow speech:\\n Text:{speech}\")\n",
    "]"
   ]
  },
  {
   "cell_type": "code",
   "execution_count": 27,
   "metadata": {},
   "outputs": [
    {
     "data": {
      "text/plain": [
       "865"
      ]
     },
     "execution_count": 27,
     "metadata": {},
     "output_type": "execute_result"
    }
   ],
   "source": [
    "llm.get_num_tokens(speech)"
   ]
  },
  {
   "cell_type": "code",
   "execution_count": 28,
   "metadata": {},
   "outputs": [
    {
     "data": {
      "text/plain": [
       "'This speech emphasizes the power of human resilience, innovation, and unity in overcoming global challenges.  \\n\\nThe speaker highlights the transformative power of technology while urging responsible development guided by ethics and compassion. Education is key, focusing on critical thinking, creativity, and empathy. \\n\\nThe speech calls for collective action to address climate change, inequality, and social barriers.  Celebrating diversity and unity is essential for progress, as history demonstrates that our greatest achievements come from working together.  The speaker concludes with a call to action, encouraging individuals to contribute to building a better future through their actions and beliefs. \\n\\n\\n\\n'"
      ]
     },
     "execution_count": 28,
     "metadata": {},
     "output_type": "execute_result"
    }
   ],
   "source": [
    "## Getting the Summary\n",
    "llm(chat_message).content"
   ]
  },
  {
   "cell_type": "markdown",
   "metadata": {},
   "source": [
    "## Prompt Template Text Summarization"
   ]
  },
  {
   "cell_type": "code",
   "execution_count": 29,
   "metadata": {},
   "outputs": [
    {
     "data": {
      "text/plain": [
       "PromptTemplate(input_variables=['language', 'speech'], input_types={}, partial_variables={}, template='\\nSummarize the following speech in a concise and precise manner.\\n\\nSpeech:\\n{speech}\\n\\nTranslate the summary into {language}.\\n\\n**Output only the translated summary in {language}. Do not include the English summary, explanations, headings, or extra details.**\\n')"
      ]
     },
     "execution_count": 29,
     "metadata": {},
     "output_type": "execute_result"
    }
   ],
   "source": [
    "from langchain.chains import LLMChain\n",
    "from langchain import PromptTemplate\n",
    "\n",
    "generic_template = \"\"\"\n",
    "Summarize the following speech in a concise and precise manner.\n",
    "\n",
    "Speech:\n",
    "{speech}\n",
    "\n",
    "Translate the summary into {language}.\n",
    "\n",
    "**Output only the translated summary in {language}. Do not include the English summary, explanations, headings, or extra details.**\n",
    "\"\"\"\n",
    "\n",
    "\n",
    "prompt=PromptTemplate(\n",
    "    input_variables=['speech','language'],\n",
    "    template=generic_template\n",
    ")\n",
    "prompt"
   ]
  },
  {
   "cell_type": "markdown",
   "metadata": {},
   "source": [
    "complete_prompt=prompt.format(speech=speech,language=\"Telugu\")\n",
    "complete_prompt"
   ]
  },
  {
   "cell_type": "markdown",
   "metadata": {},
   "source": [
    "llm.get_num_tokens(complete_prompt)"
   ]
  },
  {
   "cell_type": "code",
   "execution_count": 30,
   "metadata": {},
   "outputs": [
    {
     "data": {
      "text/plain": [
       "'రెంపటి మారుతూ వస్తున్న ఈ ప్రపంచంలో, అనుభవాలు, కొత్త సాంకేతిక పరిణామాలు, ప్రయత్నాలు, సహకారం వంటి అనేక అవకాశాలు ఉన్నాయి. మనం ఈ అవకాశాలను బాగా వాడటం, సాంకేతిక పరిణామాలను సమగ్రంగా, సామాజిక న్యాయంతో అభివృద్ధి చేయటం, విద్యను అందించడం, అసమానతలను తొలగించడం, వివిధ వ్యక్తులను గుర్తిస్తున్నాం.  మనం కలిసి పనిచేయటం, మన ప్రపంచాన్ని మెరుగు పరచడం, ఆకాశానికి చేరుకొనే ప్రయత్నాలు చేయాలి.  \\n'"
      ]
     },
     "execution_count": 30,
     "metadata": {},
     "output_type": "execute_result"
    }
   ],
   "source": [
    "llm_chain=LLMChain(llm=llm,prompt=prompt)\n",
    "summary=llm_chain.run({'speech':speech,'language':'Telugu'})\n",
    "summary"
   ]
  },
  {
   "cell_type": "code",
   "execution_count": 31,
   "metadata": {},
   "outputs": [],
   "source": [
    "## It has limited Text. FOr bigger size PDF\n"
   ]
  }
 ],
 "metadata": {
  "kernelspec": {
   "display_name": "3.11.0",
   "language": "python",
   "name": "python3"
  },
  "language_info": {
   "codemirror_mode": {
    "name": "ipython",
    "version": 3
   },
   "file_extension": ".py",
   "mimetype": "text/x-python",
   "name": "python",
   "nbconvert_exporter": "python",
   "pygments_lexer": "ipython3",
   "version": "3.11.0"
  }
 },
 "nbformat": 4,
 "nbformat_minor": 2
}
